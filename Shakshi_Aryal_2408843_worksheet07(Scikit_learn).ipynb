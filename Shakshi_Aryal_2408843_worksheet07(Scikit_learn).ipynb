{
  "cells": [
    {
      "cell_type": "markdown",
      "metadata": {
        "id": "bbVh5IgVSPNk"
      },
      "source": [
        "# **Worksheet-07**"
      ]
    },
    {
      "cell_type": "markdown",
      "metadata": {
        "id": "1D4DT0vJX1ZC"
      },
      "source": [
        "### **Download the Pima Indian Diabetes**\n",
        "\n",
        " ### Dataset: Available from sources like Kaggle. Contains columns such as: Pregnancies, Glucose, BloodPressure, SkinThickness, Insulin, BMI DiabetesPedigreeFunction, Age, Outcome (whether the patient has diabetes or not)."
      ]
    },
    {
      "cell_type": "code",
      "execution_count": 12,
      "metadata": {
        "id": "X-zs16rzSNjR"
      },
      "outputs": [],
      "source": [
        "# Importing Necessary Libraries\n",
        "\n",
        "import pandas as pd\n",
        "import numpy as np\n",
        "from sklearn.model_selection import train_test_split\n",
        "from sklearn.linear_model import LinearRegression, LogisticRegression\n",
        "from sklearn.metrics import mean_squared_error, r2_score, accuracy_score, precision_score, recall_score, f1_score, confusion_matrix\n"
      ]
    },
    {
      "cell_type": "code",
      "execution_count": 13,
      "metadata": {
        "colab": {
          "base_uri": "https://localhost:8080/"
        },
        "id": "8jJZPFs4SdUC",
        "outputId": "38695de9-0ad3-48e0-f022-c818fecd79d1"
      },
      "outputs": [
        {
          "name": "stdout",
          "output_type": "stream",
          "text": [
            "   Pregnancies  Glucose  BloodPressure  SkinThickness  Insulin   BMI  \\\n",
            "0            6      148             72             35        0  33.6   \n",
            "1            1       85             66             29        0  26.6   \n",
            "2            8      183             64              0        0  23.3   \n",
            "3            1       89             66             23       94  28.1   \n",
            "4            0      137             40             35      168  43.1   \n",
            "5            5      116             74              0        0  25.6   \n",
            "6            3       78             50             32       88  31.0   \n",
            "7           10      115              0              0        0  35.3   \n",
            "8            2      197             70             45      543  30.5   \n",
            "9            8      125             96              0        0   0.0   \n",
            "\n",
            "   DiabetesPedigreeFunction  Age  Outcome  \n",
            "0                     0.627   50        1  \n",
            "1                     0.351   31        0  \n",
            "2                     0.672   32        1  \n",
            "3                     0.167   21        0  \n",
            "4                     2.288   33        1  \n",
            "5                     0.201   30        0  \n",
            "6                     0.248   26        1  \n",
            "7                     0.134   29        0  \n",
            "8                     0.158   53        1  \n",
            "9                     0.232   54        1  \n"
          ]
        }
      ],
      "source": [
        "url = \"https://raw.githubusercontent.com/jbrownlee/Datasets/master/pima-indians-diabetes.data.csv\"\n",
        "columns = [\n",
        "    \"Pregnancies\", \"Glucose\", \"BloodPressure\", \"SkinThickness\", \"Insulin\",\n",
        "    \"BMI\", \"DiabetesPedigreeFunction\", \"Age\", \"Outcome\"\n",
        "]\n",
        "df = pd.read_csv(url, header=None, names=columns)\n",
        "print(df.head(10))"
      ]
    },
    {
      "cell_type": "code",
      "execution_count": 26,
      "metadata": {
        "colab": {
          "base_uri": "https://localhost:8080/"
        },
        "id": "SR-WQDhkS4Mu",
        "outputId": "892df11c-5b22-48bf-c4aa-f83acbcf5691"
      },
      "outputs": [
        {
          "name": "stdout",
          "output_type": "stream",
          "text": [
            "Pregnancies                 0\n",
            "Glucose                     0\n",
            "BloodPressure               0\n",
            "SkinThickness               0\n",
            "Insulin                     0\n",
            "BMI                         0\n",
            "DiabetesPedigreeFunction    0\n",
            "Age                         0\n",
            "Outcome                     0\n",
            "dtype: int64\n",
            "       Pregnancies     Glucose  BloodPressure  SkinThickness     Insulin  \\\n",
            "count   768.000000  768.000000     768.000000     768.000000  768.000000   \n",
            "mean      3.845052  121.686763      72.405184      29.153420  155.548223   \n",
            "std       3.369578   30.435949      12.096346       8.790942   85.021108   \n",
            "min       0.000000   44.000000      24.000000       7.000000   14.000000   \n",
            "25%       1.000000   99.750000      64.000000      25.000000  121.500000   \n",
            "50%       3.000000  117.000000      72.202592      29.153420  155.548223   \n",
            "75%       6.000000  140.250000      80.000000      32.000000  155.548223   \n",
            "max      17.000000  199.000000     122.000000      99.000000  846.000000   \n",
            "\n",
            "              BMI  DiabetesPedigreeFunction         Age     Outcome  \n",
            "count  768.000000                768.000000  768.000000  768.000000  \n",
            "mean    32.457464                  0.471876   33.240885    0.348958  \n",
            "std      6.875151                  0.331329   11.760232    0.476951  \n",
            "min     18.200000                  0.078000   21.000000    0.000000  \n",
            "25%     27.500000                  0.243750   24.000000    0.000000  \n",
            "50%     32.400000                  0.372500   29.000000    0.000000  \n",
            "75%     36.600000                  0.626250   41.000000    1.000000  \n",
            "max     67.100000                  2.420000   81.000000    1.000000  \n"
          ]
        }
      ],
      "source": [
        "#  Data Preprocessing\n",
        "\n",
        " # Checking for null values\n",
        "print(df.isnull().sum())\n",
        "\n",
        "# Replacing zeros in certain columns with NaN\n",
        "columns_to_replace = ['Glucose', 'BloodPressure', 'SkinThickness', 'Insulin', 'BMI']\n",
        "df[columns_to_replace] = df[columns_to_replace].replace(0, np.nan)\n",
        "\n",
        "# Filling missing values with mean\n",
        "df.fillna(df.mean(), inplace=True)\n",
        "\n",
        "# Check the dataset after preprocessing\n",
        "print(df.describe())\n"
      ]
    },
    {
      "cell_type": "markdown",
      "metadata": {
        "id": "oEEpnW1KTEd5"
      },
      "source": [
        "### **Regression Task:**\n",
        "\n",
        "### 1.   Predict the Blood Pressure of the patients based on other features.\n",
        "### 2. Use Linear Regression model from Scikit-learn.\n",
        "\n"
      ]
    },
    {
      "cell_type": "code",
      "execution_count": 29,
      "metadata": {
        "colab": {
          "base_uri": "https://localhost:8080/"
        },
        "id": "NzDNDfq6TGNh",
        "outputId": "89166b09-4b90-4bfd-828e-93ad596e7006"
      },
      "outputs": [
        {
          "name": "stdout",
          "output_type": "stream",
          "text": [
            "\n",
            "Regression Task Results:-\n",
            "Mean Squared Error (MSE): 116.02540344946478\n",
            "R2 Score: 0.2049813437400695\n",
            "Original Mean BloodPressure: 72.80868434515689\n",
            "Predicted Mean BloodPressure: 72.9187443936565\n"
          ]
        }
      ],
      "source": [
        "#Regression Task: Predict BloodPressure\n",
        "\n",
        "# Features and target for regression\n",
        "X_reg = df.drop(columns=[\"BloodPressure\"])\n",
        "y_reg = df[\"BloodPressure\"]\n",
        "\n",
        "# Train-test split\n",
        "X_train_reg, X_test_reg, y_train_reg, y_test_reg = train_test_split(X_reg, y_reg, test_size=0.25, random_state=42)\n",
        "\n",
        "# Training Linear Regression model\n",
        "reg_model = LinearRegression()\n",
        "reg_model.fit(X_train_reg, y_train_reg)\n",
        "\n",
        "# Predicting and evaluating\n",
        "reg_predictions = reg_model.predict(X_test_reg)\n",
        "reg_mse = mean_squared_error(y_test_reg, reg_predictions)\n",
        "reg_r2 = r2_score(y_test_reg, reg_predictions)\n",
        "\n",
        "print(\"\\nRegression Task Results:-\")\n",
        "print(f\"Mean Squared Error (MSE): {reg_mse}\")\n",
        "print(f\"R2 Score: {reg_r2}\")\n",
        "print(f\"Original Mean BloodPressure: {y_test_reg.mean()}\")\n",
        "print(f\"Predicted Mean BloodPressure: {reg_predictions.mean()}\")\n"
      ]
    },
    {
      "cell_type": "markdown",
      "metadata": {
        "id": "DP3vBuCtTLPN"
      },
      "source": [
        "### **Classification Task:**\n",
        "### 1. Predict whether the patient has diabetes (target column: Outcome).\n",
        "### 2. Use Logistic Regression or K-Nearest Neighbors (KNN) model."
      ]
    },
    {
      "cell_type": "code",
      "execution_count": 30,
      "metadata": {
        "colab": {
          "base_uri": "https://localhost:8080/"
        },
        "id": "morseVtpTMb-",
        "outputId": "d8a3fdae-4843-449a-bfda-edbf7372bf26"
      },
      "outputs": [
        {
          "name": "stdout",
          "output_type": "stream",
          "text": [
            "\n",
            "Classification Task Results:-\n",
            "Accuracy: 0.7291666666666666\n",
            "Precision: 0.6349206349206349\n",
            "Recall: 0.5797101449275363\n",
            "F1 Score: 0.6060606060606061\n",
            "Confusion Matrix:\n",
            "[[100  23]\n",
            " [ 29  40]]\n"
          ]
        }
      ],
      "source": [
        "\n",
        "#Classification Task: Predict Outcome\n",
        "\n",
        "# Features and target for classification\n",
        "X_clf = df.drop(columns=[\"Outcome\"])\n",
        "y_clf = df[\"Outcome\"]\n",
        "\n",
        "# Train-test split\n",
        "X_train_clf, X_test_clf, y_train_clf, y_test_clf = train_test_split(X_clf, y_clf, test_size=0.25, random_state=42)\n",
        "\n",
        "# Training Logistic Regression model\n",
        "clf_model = LogisticRegression(max_iter=1000)\n",
        "clf_model.fit(X_train_clf, y_train_clf)\n",
        "\n",
        "# Predicting and evaluating\n",
        "clf_predictions = clf_model.predict(X_test_clf)\n",
        "clf_accuracy = accuracy_score(y_test_clf, clf_predictions)\n",
        "clf_precision = precision_score(y_test_clf, clf_predictions)\n",
        "clf_recall = recall_score(y_test_clf, clf_predictions)\n",
        "clf_f1 = f1_score(y_test_clf, clf_predictions)\n",
        "clf_conf_matrix = confusion_matrix(y_test_clf, clf_predictions)\n",
        "\n",
        "print(\"\\nClassification Task Results:-\")\n",
        "print(f\"Accuracy: {clf_accuracy}\")\n",
        "print(f\"Precision: {clf_precision}\")\n",
        "print(f\"Recall: {clf_recall}\")\n",
        "print(f\"F1 Score: {clf_f1}\")\n",
        "print(f\"Confusion Matrix:\\n{clf_conf_matrix}\")\n"
      ]
    }
  ],
  "metadata": {
    "colab": {
      "provenance": []
    },
    "kernelspec": {
      "display_name": "Python 3",
      "name": "python3"
    },
    "language_info": {
      "name": "python",
      "version": "3.13.0"
    }
  },
  "nbformat": 4,
  "nbformat_minor": 0
}
